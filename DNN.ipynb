{
  "nbformat": 4,
  "nbformat_minor": 0,
  "metadata": {
    "colab": {
      "provenance": [],
      "gpuType": "T4",
      "authorship_tag": "ABX9TyP3+aSzrJhZkNr0wHElaWLJ",
      "include_colab_link": true
    },
    "kernelspec": {
      "name": "python3",
      "display_name": "Python 3"
    },
    "language_info": {
      "name": "python"
    },
    "accelerator": "GPU"
  },
  "cells": [
    {
      "cell_type": "markdown",
      "metadata": {
        "id": "view-in-github",
        "colab_type": "text"
      },
      "source": [
        "<a href=\"https://colab.research.google.com/github/L0ki2026/Neural-Networks/blob/main/DNN.ipynb\" target=\"_parent\"><img src=\"https://colab.research.google.com/assets/colab-badge.svg\" alt=\"Open In Colab\"/></a>"
      ]
    },
    {
      "cell_type": "code",
      "execution_count": null,
      "metadata": {
        "colab": {
          "base_uri": "https://localhost:8080/"
        },
        "id": "NpfX0ILknoil",
        "outputId": "b629a470-2ff1-4e80-e892-95a116aeed23"
      },
      "outputs": [
        {
          "output_type": "stream",
          "name": "stdout",
          "text": [
            "Requirement already satisfied: torch in /usr/local/lib/python3.11/dist-packages (2.6.0+cu124)\n",
            "Requirement already satisfied: torchvision in /usr/local/lib/python3.11/dist-packages (0.21.0+cu124)\n",
            "Requirement already satisfied: filelock in /usr/local/lib/python3.11/dist-packages (from torch) (3.18.0)\n",
            "Requirement already satisfied: typing-extensions>=4.10.0 in /usr/local/lib/python3.11/dist-packages (from torch) (4.14.0)\n",
            "Requirement already satisfied: networkx in /usr/local/lib/python3.11/dist-packages (from torch) (3.5)\n",
            "Requirement already satisfied: jinja2 in /usr/local/lib/python3.11/dist-packages (from torch) (3.1.6)\n",
            "Requirement already satisfied: fsspec in /usr/local/lib/python3.11/dist-packages (from torch) (2025.3.2)\n",
            "Collecting nvidia-cuda-nvrtc-cu12==12.4.127 (from torch)\n",
            "  Downloading nvidia_cuda_nvrtc_cu12-12.4.127-py3-none-manylinux2014_x86_64.whl.metadata (1.5 kB)\n",
            "Collecting nvidia-cuda-runtime-cu12==12.4.127 (from torch)\n",
            "  Downloading nvidia_cuda_runtime_cu12-12.4.127-py3-none-manylinux2014_x86_64.whl.metadata (1.5 kB)\n",
            "Collecting nvidia-cuda-cupti-cu12==12.4.127 (from torch)\n",
            "  Downloading nvidia_cuda_cupti_cu12-12.4.127-py3-none-manylinux2014_x86_64.whl.metadata (1.6 kB)\n",
            "Collecting nvidia-cudnn-cu12==9.1.0.70 (from torch)\n",
            "  Downloading nvidia_cudnn_cu12-9.1.0.70-py3-none-manylinux2014_x86_64.whl.metadata (1.6 kB)\n",
            "Collecting nvidia-cublas-cu12==12.4.5.8 (from torch)\n",
            "  Downloading nvidia_cublas_cu12-12.4.5.8-py3-none-manylinux2014_x86_64.whl.metadata (1.5 kB)\n",
            "Collecting nvidia-cufft-cu12==11.2.1.3 (from torch)\n",
            "  Downloading nvidia_cufft_cu12-11.2.1.3-py3-none-manylinux2014_x86_64.whl.metadata (1.5 kB)\n",
            "Collecting nvidia-curand-cu12==10.3.5.147 (from torch)\n",
            "  Downloading nvidia_curand_cu12-10.3.5.147-py3-none-manylinux2014_x86_64.whl.metadata (1.5 kB)\n",
            "Collecting nvidia-cusolver-cu12==11.6.1.9 (from torch)\n",
            "  Downloading nvidia_cusolver_cu12-11.6.1.9-py3-none-manylinux2014_x86_64.whl.metadata (1.6 kB)\n",
            "Collecting nvidia-cusparse-cu12==12.3.1.170 (from torch)\n",
            "  Downloading nvidia_cusparse_cu12-12.3.1.170-py3-none-manylinux2014_x86_64.whl.metadata (1.6 kB)\n",
            "Requirement already satisfied: nvidia-cusparselt-cu12==0.6.2 in /usr/local/lib/python3.11/dist-packages (from torch) (0.6.2)\n",
            "Requirement already satisfied: nvidia-nccl-cu12==2.21.5 in /usr/local/lib/python3.11/dist-packages (from torch) (2.21.5)\n",
            "Requirement already satisfied: nvidia-nvtx-cu12==12.4.127 in /usr/local/lib/python3.11/dist-packages (from torch) (12.4.127)\n",
            "Collecting nvidia-nvjitlink-cu12==12.4.127 (from torch)\n",
            "  Downloading nvidia_nvjitlink_cu12-12.4.127-py3-none-manylinux2014_x86_64.whl.metadata (1.5 kB)\n",
            "Requirement already satisfied: triton==3.2.0 in /usr/local/lib/python3.11/dist-packages (from torch) (3.2.0)\n",
            "Requirement already satisfied: sympy==1.13.1 in /usr/local/lib/python3.11/dist-packages (from torch) (1.13.1)\n",
            "Requirement already satisfied: mpmath<1.4,>=1.1.0 in /usr/local/lib/python3.11/dist-packages (from sympy==1.13.1->torch) (1.3.0)\n",
            "Requirement already satisfied: numpy in /usr/local/lib/python3.11/dist-packages (from torchvision) (2.0.2)\n",
            "Requirement already satisfied: pillow!=8.3.*,>=5.3.0 in /usr/local/lib/python3.11/dist-packages (from torchvision) (11.2.1)\n",
            "Requirement already satisfied: MarkupSafe>=2.0 in /usr/local/lib/python3.11/dist-packages (from jinja2->torch) (3.0.2)\n",
            "Downloading nvidia_cublas_cu12-12.4.5.8-py3-none-manylinux2014_x86_64.whl (363.4 MB)\n",
            "\u001b[2K   \u001b[90m━━━━━━━━━━━━━━━━━━━━━━━━━━━━━━━━━━━━━━━━\u001b[0m \u001b[32m363.4/363.4 MB\u001b[0m \u001b[31m4.4 MB/s\u001b[0m eta \u001b[36m0:00:00\u001b[0m\n",
            "\u001b[?25hDownloading nvidia_cuda_cupti_cu12-12.4.127-py3-none-manylinux2014_x86_64.whl (13.8 MB)\n",
            "\u001b[2K   \u001b[90m━━━━━━━━━━━━━━━━━━━━━━━━━━━━━━━━━━━━━━━━\u001b[0m \u001b[32m13.8/13.8 MB\u001b[0m \u001b[31m39.9 MB/s\u001b[0m eta \u001b[36m0:00:00\u001b[0m\n",
            "\u001b[?25hDownloading nvidia_cuda_nvrtc_cu12-12.4.127-py3-none-manylinux2014_x86_64.whl (24.6 MB)\n",
            "\u001b[2K   \u001b[90m━━━━━━━━━━━━━━━━━━━━━━━━━━━━━━━━━━━━━━━━\u001b[0m \u001b[32m24.6/24.6 MB\u001b[0m \u001b[31m32.4 MB/s\u001b[0m eta \u001b[36m0:00:00\u001b[0m\n",
            "\u001b[?25hDownloading nvidia_cuda_runtime_cu12-12.4.127-py3-none-manylinux2014_x86_64.whl (883 kB)\n",
            "\u001b[2K   \u001b[90m━━━━━━━━━━━━━━━━━━━━━━━━━━━━━━━━━━━━━━━━\u001b[0m \u001b[32m883.7/883.7 kB\u001b[0m \u001b[31m45.3 MB/s\u001b[0m eta \u001b[36m0:00:00\u001b[0m\n",
            "\u001b[?25hDownloading nvidia_cudnn_cu12-9.1.0.70-py3-none-manylinux2014_x86_64.whl (664.8 MB)\n",
            "\u001b[2K   \u001b[90m━━━━━━━━━━━━━━━━━━━━━━━━━━━━━━━━━━━━━━━━\u001b[0m \u001b[32m664.8/664.8 MB\u001b[0m \u001b[31m1.6 MB/s\u001b[0m eta \u001b[36m0:00:00\u001b[0m\n",
            "\u001b[?25hDownloading nvidia_cufft_cu12-11.2.1.3-py3-none-manylinux2014_x86_64.whl (211.5 MB)\n",
            "\u001b[2K   \u001b[90m━━━━━━━━━━━━━━━━━━━━━━━━━━━━━━━━━━━━━━━━\u001b[0m \u001b[32m211.5/211.5 MB\u001b[0m \u001b[31m7.3 MB/s\u001b[0m eta \u001b[36m0:00:00\u001b[0m\n",
            "\u001b[?25hDownloading nvidia_curand_cu12-10.3.5.147-py3-none-manylinux2014_x86_64.whl (56.3 MB)\n",
            "\u001b[2K   \u001b[90m━━━━━━━━━━━━━━━━━━━━━━━━━━━━━━━━━━━━━━━━\u001b[0m \u001b[32m56.3/56.3 MB\u001b[0m \u001b[31m12.4 MB/s\u001b[0m eta \u001b[36m0:00:00\u001b[0m\n",
            "\u001b[?25hDownloading nvidia_cusolver_cu12-11.6.1.9-py3-none-manylinux2014_x86_64.whl (127.9 MB)\n",
            "\u001b[2K   \u001b[90m━━━━━━━━━━━━━━━━━━━━━━━━━━━━━━━━━━━━━━━━\u001b[0m \u001b[32m127.9/127.9 MB\u001b[0m \u001b[31m7.9 MB/s\u001b[0m eta \u001b[36m0:00:00\u001b[0m\n",
            "\u001b[?25hDownloading nvidia_cusparse_cu12-12.3.1.170-py3-none-manylinux2014_x86_64.whl (207.5 MB)\n",
            "\u001b[2K   \u001b[90m━━━━━━━━━━━━━━━━━━━━━━━━━━━━━━━━━━━━━━━━\u001b[0m \u001b[32m207.5/207.5 MB\u001b[0m \u001b[31m6.5 MB/s\u001b[0m eta \u001b[36m0:00:00\u001b[0m\n",
            "\u001b[?25hDownloading nvidia_nvjitlink_cu12-12.4.127-py3-none-manylinux2014_x86_64.whl (21.1 MB)\n",
            "\u001b[2K   \u001b[90m━━━━━━━━━━━━━━━━━━━━━━━━━━━━━━━━━━━━━━━━\u001b[0m \u001b[32m21.1/21.1 MB\u001b[0m \u001b[31m47.1 MB/s\u001b[0m eta \u001b[36m0:00:00\u001b[0m\n",
            "\u001b[?25hInstalling collected packages: nvidia-nvjitlink-cu12, nvidia-curand-cu12, nvidia-cufft-cu12, nvidia-cuda-runtime-cu12, nvidia-cuda-nvrtc-cu12, nvidia-cuda-cupti-cu12, nvidia-cublas-cu12, nvidia-cusparse-cu12, nvidia-cudnn-cu12, nvidia-cusolver-cu12\n",
            "  Attempting uninstall: nvidia-nvjitlink-cu12\n",
            "    Found existing installation: nvidia-nvjitlink-cu12 12.5.82\n",
            "    Uninstalling nvidia-nvjitlink-cu12-12.5.82:\n",
            "      Successfully uninstalled nvidia-nvjitlink-cu12-12.5.82\n",
            "  Attempting uninstall: nvidia-curand-cu12\n",
            "    Found existing installation: nvidia-curand-cu12 10.3.6.82\n",
            "    Uninstalling nvidia-curand-cu12-10.3.6.82:\n",
            "      Successfully uninstalled nvidia-curand-cu12-10.3.6.82\n",
            "  Attempting uninstall: nvidia-cufft-cu12\n",
            "    Found existing installation: nvidia-cufft-cu12 11.2.3.61\n",
            "    Uninstalling nvidia-cufft-cu12-11.2.3.61:\n",
            "      Successfully uninstalled nvidia-cufft-cu12-11.2.3.61\n",
            "  Attempting uninstall: nvidia-cuda-runtime-cu12\n",
            "    Found existing installation: nvidia-cuda-runtime-cu12 12.5.82\n",
            "    Uninstalling nvidia-cuda-runtime-cu12-12.5.82:\n",
            "      Successfully uninstalled nvidia-cuda-runtime-cu12-12.5.82\n",
            "  Attempting uninstall: nvidia-cuda-nvrtc-cu12\n",
            "    Found existing installation: nvidia-cuda-nvrtc-cu12 12.5.82\n",
            "    Uninstalling nvidia-cuda-nvrtc-cu12-12.5.82:\n",
            "      Successfully uninstalled nvidia-cuda-nvrtc-cu12-12.5.82\n",
            "  Attempting uninstall: nvidia-cuda-cupti-cu12\n",
            "    Found existing installation: nvidia-cuda-cupti-cu12 12.5.82\n",
            "    Uninstalling nvidia-cuda-cupti-cu12-12.5.82:\n",
            "      Successfully uninstalled nvidia-cuda-cupti-cu12-12.5.82\n",
            "  Attempting uninstall: nvidia-cublas-cu12\n",
            "    Found existing installation: nvidia-cublas-cu12 12.5.3.2\n",
            "    Uninstalling nvidia-cublas-cu12-12.5.3.2:\n",
            "      Successfully uninstalled nvidia-cublas-cu12-12.5.3.2\n",
            "  Attempting uninstall: nvidia-cusparse-cu12\n",
            "    Found existing installation: nvidia-cusparse-cu12 12.5.1.3\n",
            "    Uninstalling nvidia-cusparse-cu12-12.5.1.3:\n",
            "      Successfully uninstalled nvidia-cusparse-cu12-12.5.1.3\n",
            "  Attempting uninstall: nvidia-cudnn-cu12\n",
            "    Found existing installation: nvidia-cudnn-cu12 9.3.0.75\n",
            "    Uninstalling nvidia-cudnn-cu12-9.3.0.75:\n",
            "      Successfully uninstalled nvidia-cudnn-cu12-9.3.0.75\n",
            "  Attempting uninstall: nvidia-cusolver-cu12\n",
            "    Found existing installation: nvidia-cusolver-cu12 11.6.3.83\n",
            "    Uninstalling nvidia-cusolver-cu12-11.6.3.83:\n",
            "      Successfully uninstalled nvidia-cusolver-cu12-11.6.3.83\n",
            "Successfully installed nvidia-cublas-cu12-12.4.5.8 nvidia-cuda-cupti-cu12-12.4.127 nvidia-cuda-nvrtc-cu12-12.4.127 nvidia-cuda-runtime-cu12-12.4.127 nvidia-cudnn-cu12-9.1.0.70 nvidia-cufft-cu12-11.2.1.3 nvidia-curand-cu12-10.3.5.147 nvidia-cusolver-cu12-11.6.1.9 nvidia-cusparse-cu12-12.3.1.170 nvidia-nvjitlink-cu12-12.4.127\n"
          ]
        }
      ],
      "source": [
        "!pip install torch torchvision"
      ]
    },
    {
      "cell_type": "code",
      "source": [
        "import torch\n",
        "import torch.nn as nn"
      ],
      "metadata": {
        "id": "qz47ojrJuUZg"
      },
      "execution_count": null,
      "outputs": []
    },
    {
      "cell_type": "code",
      "source": [
        "import torch\n",
        "X = torch.tensor(([\n",
        "    [30, 8],  # Temperature and sunny days for City A\n",
        "    [25, 5],  # Temperature and sunny days for City B\n",
        "    [28, 6],  # Temperature and sunny days for City C\n",
        "    [32, 10]  # Temperature and sunny days for City D\n",
        "]),dtype=torch.float)\n",
        "\n",
        "y = torch.tensor(([200], [150], [180], [220]),dtype=torch.float)#ice cream sales for each city\n",
        "\n",
        "xPredicted = torch.tensor(([27, 7]), dtype=torch.float)"
      ],
      "metadata": {
        "id": "A_LuWlbmGTeY"
      },
      "execution_count": null,
      "outputs": []
    },
    {
      "cell_type": "code",
      "source": [
        "print(X.shape)\n",
        "print(y.shape)"
      ],
      "metadata": {
        "colab": {
          "base_uri": "https://localhost:8080/"
        },
        "id": "901ZxMTjGX11",
        "outputId": "d61f9589-5bec-4297-99a3-5357155e403b"
      },
      "execution_count": null,
      "outputs": [
        {
          "output_type": "stream",
          "name": "stdout",
          "text": [
            "torch.Size([4, 2])\n",
            "torch.Size([4, 1])\n"
          ]
        }
      ]
    },
    {
      "cell_type": "code",
      "source": [
        "# scale units\n",
        "X_max, _ = torch.max(X, 0)\n",
        "xPredicted_max, _ = torch.max(xPredicted, 0)\n",
        "\n",
        "X = torch.div(X, X_max)\n",
        "xPredicted = torch.div(xPredicted, xPredicted_max)\n",
        "y = y / 100  # max test score is 100"
      ],
      "metadata": {
        "id": "3Vv3VHCVJiYX"
      },
      "execution_count": null,
      "outputs": []
    },
    {
      "cell_type": "code",
      "source": [
        "import matplotlib.pyplot as plt\n",
        "plt.figure(figsize=(10, 6))\n",
        "\n",
        "plt.scatter(X[:, 0], y, label='Temperature', alpha=0.7)\n",
        "plt.scatter(X[:, 1], y, label='Sunny Days', alpha=0.7)\n",
        "\n",
        "plt.title('Ice Cream Sales Prediction Data')\n",
        "plt.xlabel('Temperature / Sunny Days')\n",
        "plt.ylabel('Ice Cream Sales')\n",
        "plt.legend()\n",
        "plt.show()"
      ],
      "metadata": {
        "colab": {
          "base_uri": "https://localhost:8080/",
          "height": 564
        },
        "id": "ONgHlHjgcOcU",
        "outputId": "e879353b-fc9c-44d7-aa70-87a882b603e8"
      },
      "execution_count": null,
      "outputs": [
        {
          "output_type": "display_data",
          "data": {
            "text/plain": [
              "<Figure size 1000x600 with 1 Axes>"
            ],
            "image/png": "[encoded data removed]"
          },
          "metadata": {}
        }
      ]
    },
    {
      "cell_type": "code",
      "source": [
        "import torch.nn as nn\n",
        "import torch.optim as optim\n",
        "\n",
        "class Neural_Network(nn.Module):\n",
        "    def __init__(self, ):\n",
        "        super(Neural_Network, self).__init__()\n",
        "        # parameters\n",
        "        # TODO: parameters can be parameterized instead of declaring them here\n",
        "        self.inputSize = 2\n",
        "        self.outputSize = 1\n",
        "        self.hiddenSize = 4\n",
        "\n",
        "        # weights\n",
        "        self.W1 = nn.Parameter(torch.randn(self.inputSize, self.hiddenSize))\n",
        "        self.W2 = nn.Parameter(torch.randn(self.hiddenSize, self.outputSize))\n",
        "\n",
        "    def forward(self, X):\n",
        "        self.z = torch.matmul(X, self.W1)  # 3 X 3 \".dot\" does not broadcast in PyTorch\n",
        "        self.z2 = torch.relu(self.z)  # ReLU activation function\n",
        "        self.z3 = torch.matmul(self.z2, self.W2)\n",
        "        o = self.z3\n",
        "        return o\n",
        "\n",
        "    def backward(self, X, y, o, optimizer):\n",
        "        # calculate loss\n",
        "        loss = torch.mean((y - o)**2)\n",
        "\n",
        "        # backward pass\n",
        "        optimizer.zero_grad()\n",
        "        loss.backward()\n",
        "        optimizer.step()\n",
        "\n",
        "        return loss\n",
        "\n",
        "    def train(self, X, y, epochs=100, learning_rate=0.01):\n",
        "        optimizer = optim.SGD(self.parameters(), lr=learning_rate)\n",
        "\n",
        "        for epoch in range(epochs):\n",
        "            # forward pass\n",
        "            o = self.forward(X)\n",
        "\n",
        "            # backward pass\n",
        "            loss = self.backward(X, y, o, optimizer)\n",
        "\n",
        "            # Optionally, you can print the loss for each epoch if needed\n",
        "            print(f\"Epoch {epoch + 1}/{epochs}, Loss: {loss.item():.3f}\")\n",
        "\n",
        "    def predict(self, X):\n",
        "        print(\"Predicted data based on trained weights: \")\n",
        "        print(\"Input (scaled): \\n\" + str(X))\n",
        "        print(\"Output: \\n\" + str(self.forward(X)))\n",
        "\n",
        "# Assuming you have X and y defined\n",
        "model = Neural_Network()\n",
        "model.train(X, y, epochs=100, learning_rate=0.01)"
      ],
      "metadata": {
        "colab": {
          "base_uri": "https://localhost:8080/"
        },
        "id": "cU1Ys4yLevS0",
        "outputId": "d55f47b3-ae7c-4d8e-896a-a0543cd09934"
      },
      "execution_count": null,
      "outputs": [
        {
          "output_type": "stream",
          "name": "stdout",
          "text": [
            "Epoch 1/100, Loss: 2.519\n",
            "Epoch 2/100, Loss: 1.854\n",
            "Epoch 3/100, Loss: 1.362\n",
            "Epoch 4/100, Loss: 1.001\n",
            "Epoch 5/100, Loss: 0.752\n",
            "Epoch 6/100, Loss: 0.564\n",
            "Epoch 7/100, Loss: 0.422\n",
            "Epoch 8/100, Loss: 0.320\n",
            "Epoch 9/100, Loss: 0.242\n",
            "Epoch 10/100, Loss: 0.184\n",
            "Epoch 11/100, Loss: 0.140\n",
            "Epoch 12/100, Loss: 0.108\n",
            "Epoch 13/100, Loss: 0.083\n",
            "Epoch 14/100, Loss: 0.065\n",
            "Epoch 15/100, Loss: 0.052\n",
            "Epoch 16/100, Loss: 0.042\n",
            "Epoch 17/100, Loss: 0.034\n",
            "Epoch 18/100, Loss: 0.029\n",
            "Epoch 19/100, Loss: 0.025\n",
            "Epoch 20/100, Loss: 0.022\n",
            "Epoch 21/100, Loss: 0.020\n",
            "Epoch 22/100, Loss: 0.018\n",
            "Epoch 23/100, Loss: 0.017\n",
            "Epoch 24/100, Loss: 0.016\n",
            "Epoch 25/100, Loss: 0.015\n",
            "Epoch 26/100, Loss: 0.015\n",
            "Epoch 27/100, Loss: 0.015\n",
            "Epoch 28/100, Loss: 0.014\n",
            "Epoch 29/100, Loss: 0.014\n",
            "Epoch 30/100, Loss: 0.014\n",
            "Epoch 31/100, Loss: 0.014\n",
            "Epoch 32/100, Loss: 0.014\n",
            "Epoch 33/100, Loss: 0.014\n",
            "Epoch 34/100, Loss: 0.014\n",
            "Epoch 35/100, Loss: 0.014\n",
            "Epoch 36/100, Loss: 0.014\n",
            "Epoch 37/100, Loss: 0.014\n",
            "Epoch 38/100, Loss: 0.014\n",
            "Epoch 39/100, Loss: 0.014\n",
            "Epoch 40/100, Loss: 0.014\n",
            "Epoch 41/100, Loss: 0.014\n",
            "Epoch 42/100, Loss: 0.014\n",
            "Epoch 43/100, Loss: 0.014\n",
            "Epoch 44/100, Loss: 0.014\n",
            "Epoch 45/100, Loss: 0.014\n",
            "Epoch 46/100, Loss: 0.014\n",
            "Epoch 47/100, Loss: 0.014\n",
            "Epoch 48/100, Loss: 0.014\n",
            "Epoch 49/100, Loss: 0.014\n",
            "Epoch 50/100, Loss: 0.014\n",
            "Epoch 51/100, Loss: 0.014\n",
            "Epoch 52/100, Loss: 0.014\n",
            "Epoch 53/100, Loss: 0.014\n",
            "Epoch 54/100, Loss: 0.014\n",
            "Epoch 55/100, Loss: 0.014\n",
            "Epoch 56/100, Loss: 0.013\n",
            "Epoch 57/100, Loss: 0.013\n",
            "Epoch 58/100, Loss: 0.013\n",
            "Epoch 59/100, Loss: 0.013\n",
            "Epoch 60/100, Loss: 0.013\n",
            "Epoch 61/100, Loss: 0.013\n",
            "Epoch 62/100, Loss: 0.013\n",
            "Epoch 63/100, Loss: 0.013\n",
            "Epoch 64/100, Loss: 0.013\n",
            "Epoch 65/100, Loss: 0.013\n",
            "Epoch 66/100, Loss: 0.013\n",
            "Epoch 67/100, Loss: 0.013\n",
            "Epoch 68/100, Loss: 0.013\n",
            "Epoch 69/100, Loss: 0.013\n",
            "Epoch 70/100, Loss: 0.013\n",
            "Epoch 71/100, Loss: 0.013\n",
            "Epoch 72/100, Loss: 0.013\n",
            "Epoch 73/100, Loss: 0.013\n",
            "Epoch 74/100, Loss: 0.013\n",
            "Epoch 75/100, Loss: 0.013\n",
            "Epoch 76/100, Loss: 0.013\n",
            "Epoch 77/100, Loss: 0.013\n",
            "Epoch 78/100, Loss: 0.013\n",
            "Epoch 79/100, Loss: 0.013\n",
            "Epoch 80/100, Loss: 0.013\n",
            "Epoch 81/100, Loss: 0.013\n",
            "Epoch 82/100, Loss: 0.013\n",
            "Epoch 83/100, Loss: 0.013\n",
            "Epoch 84/100, Loss: 0.013\n",
            "Epoch 85/100, Loss: 0.013\n",
            "Epoch 86/100, Loss: 0.013\n",
            "Epoch 87/100, Loss: 0.013\n",
            "Epoch 88/100, Loss: 0.013\n",
            "Epoch 89/100, Loss: 0.013\n",
            "Epoch 90/100, Loss: 0.013\n",
            "Epoch 91/100, Loss: 0.013\n",
            "Epoch 92/100, Loss: 0.013\n",
            "Epoch 93/100, Loss: 0.013\n",
            "Epoch 94/100, Loss: 0.013\n",
            "Epoch 95/100, Loss: 0.013\n",
            "Epoch 96/100, Loss: 0.013\n",
            "Epoch 97/100, Loss: 0.013\n",
            "Epoch 98/100, Loss: 0.013\n",
            "Epoch 99/100, Loss: 0.013\n",
            "Epoch 100/100, Loss: 0.013\n"
          ]
        }
      ]
    },
    {
      "cell_type": "code",
      "source": [],
      "metadata": {
        "id": "GusknFRAoOxl"
      },
      "execution_count": null,
      "outputs": []
    }
  ]
}